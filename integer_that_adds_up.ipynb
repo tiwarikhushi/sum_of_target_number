{
  "nbformat": 4,
  "nbformat_minor": 0,
  "metadata": {
    "colab": {
      "provenance": []
    },
    "kernelspec": {
      "name": "python3",
      "display_name": "Python 3"
    },
    "language_info": {
      "name": "python"
    }
  },
  "cells": [
    {
      "cell_type": "code",
      "execution_count": 11,
      "metadata": {
        "colab": {
          "base_uri": "https://localhost:8080/"
        },
        "id": "FKBQsfuzVzMC",
        "outputId": "89668510-5cc7-4882-c810-ebdc8e439c27"
      },
      "outputs": [
        {
          "output_type": "stream",
          "name": "stdout",
          "text": [
            "(10, 40)\n"
          ]
        }
      ],
      "source": [
        "def solution(lst, target):\n",
        "    lookup = {}\n",
        "    for i, num in enumerate(lst):\n",
        "      if target - num in lookup:\n",
        "        return(lookup[target - num], lst[i])\n",
        "      lookup[num] = lst[i]\n",
        "print(solution([10,20,10,40,60,70], 50))"
      ]
    }
  ]
}
